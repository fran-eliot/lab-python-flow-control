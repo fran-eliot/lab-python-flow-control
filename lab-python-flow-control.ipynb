{
 "cells": [
  {
   "cell_type": "markdown",
   "id": "d3bfc191-8885-42ee-b0a0-bbab867c6f9f",
   "metadata": {
    "tags": []
   },
   "source": [
    "# Lab | Flow Control"
   ]
  },
  {
   "cell_type": "markdown",
   "id": "3851fcd1-cf98-4653-9c89-e003b7ec9400",
   "metadata": {},
   "source": [
    "## Exercise: Managing Customer Orders Optimized\n",
    "\n",
    "In the last lab, you were starting an online store that sells various products. To ensure smooth operations, you developed a program that manages customer orders and inventory.\n",
    "\n",
    "You did so without using flow control. Let's go a step further and improve this code.\n",
    "\n",
    "Follow the steps below to complete the exercise:\n",
    "\n",
    "1. Look at your code from the lab data structures, and improve repeated code with loops.\n",
    "\n",
    "2. Instead of asking the user to input the name of three products that a customer wants to order, do the following:\n",
    "    \n",
    "    a. Prompt the user to enter the name of a product that a customer wants to order.\n",
    "    \n",
    "    b. Add the product name to the \"customer_orders\" set.\n",
    "    \n",
    "    c. Ask the user if they want to add another product (yes/no).\n",
    "    \n",
    "    d. Continue the loop until the user does not want to add another product.\n",
    "\n",
    "3. Instead of updating the inventory by subtracting 1 from the quantity of each product, only do it for  the products that were ordered (those in \"customer_orders\")."
   ]
  },
  {
   "cell_type": "code",
   "execution_count": null,
   "id": "57d22f7d",
   "metadata": {},
   "outputs": [
    {
     "name": "stdout",
     "output_type": "stream",
     "text": [
      "\n",
      "First inventory: {'t-shirt': 5, 'mug': 5, 'hat': 5, 'book': 5, 'keychain': 5}\n",
      "List of products: t-shirt,mug,hat,book,keychain\n",
      "\n",
      "Products Ordered: {'book', 'hat'}\n",
      "\n",
      "Order Statistics: \n",
      "Total Products Ordered: 2\n",
      "Percentage of Products Ordered: 8.00%\n",
      "\n",
      "Last Inventory:\n",
      "t-shirt: 5\n",
      "mug: 5\n",
      "hat: 4\n",
      "book: 4\n",
      "keychain: 5\n"
     ]
    }
   ],
   "source": [
    "products = [\"t-shirt\", \"mug\", \"hat\", \"book\", \"keychain\"]\n",
    "inventory = {}\n",
    "\n",
    "for product in products:\n",
    "    inventory[product]=int(input(f\"Tell me the quantity of {product}: \"))\n",
    "\n",
    "print(\"\\nFirst inventory:\", inventory)\n",
    "\n",
    "customer_orders = set()\n",
    "\n",
    "print(\"List of products:\",\",\".join(products))\n",
    "no_more = False\n",
    "while not no_more:\n",
    "    while True:\n",
    "        product = input(\"Which product do you want? \").strip().lower()\n",
    "        if product not in products:\n",
    "            print(\"Invalid product. Please choose from the list:\", \", \".join(products))\n",
    "        elif product in customer_orders:\n",
    "            print(\"Duplicate product. Please choose a different one.\")\n",
    "        elif inventory[product]>0:\n",
    "            customer_orders.add(product)\n",
    "            break\n",
    "        else:\n",
    "            print('Product not disponible. Please choose a different one.')\n",
    "        \n",
    "    \n",
    "    while True:\n",
    "        response = input(\"Do you want to add another product? (yes/no)\").strip().lower()\n",
    "        if response=='yes':\n",
    "            break\n",
    "        elif response=='no':\n",
    "            no_more=True\n",
    "            break\n",
    "        else: \n",
    "            print(\"Invalid response. Please type 'yes' or 'no'.\")\n",
    "    \n",
    "    \n",
    "\n",
    "print(\"\\nProducts Ordered:\", customer_orders)\n",
    "\n",
    "total_products_ordered = len(customer_orders)\n",
    "\n",
    "total_products = 0\n",
    "for i in inventory.values():\n",
    "    total_products = total_products + i\n",
    "\n",
    "if total_products>0:\n",
    "    percentage_ordered = (total_products_ordered / total_products) * 100 \n",
    "else:\n",
    "    percentage_ordered = 0\n",
    "\n",
    "order_status = (total_products_ordered,percentage_ordered)\n",
    "\n",
    "print(f'''\n",
    "Order Statistics: \n",
    "Total Products Ordered: {order_status[0]}\n",
    "Percentage of Products Ordered: {order_status[1]:.2f}%\n",
    "''')\n",
    "\n",
    "\n",
    "for product in customer_orders:\n",
    "    if inventory[product] > 0:\n",
    "        inventory[product] -= 1\n",
    "\n",
    "print(\"Last Inventory:\")\n",
    "for product, quantity in inventory.items():\n",
    "    print(f\"{product}: {quantity}\")"
   ]
  }
 ],
 "metadata": {
  "kernelspec": {
   "display_name": "venv",
   "language": "python",
   "name": "python3"
  },
  "language_info": {
   "codemirror_mode": {
    "name": "ipython",
    "version": 3
   },
   "file_extension": ".py",
   "mimetype": "text/x-python",
   "name": "python",
   "nbconvert_exporter": "python",
   "pygments_lexer": "ipython3",
   "version": "3.12.2"
  }
 },
 "nbformat": 4,
 "nbformat_minor": 5
}
